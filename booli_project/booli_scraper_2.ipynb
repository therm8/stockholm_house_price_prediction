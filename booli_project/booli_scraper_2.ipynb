{
 "cells": [
  {
   "cell_type": "code",
   "execution_count": 1,
   "metadata": {},
   "outputs": [],
   "source": [
    "import bs4\n",
    "from urllib.request import urlopen as uReq\n",
    "from bs4 import BeautifulSoup as soup"
   ]
  },
  {
   "cell_type": "code",
   "execution_count": 2,
   "metadata": {},
   "outputs": [],
   "source": [
    "my_url = 'https://www.booli.se/slutpriser/gamla+enskede,enskede,enskede+gard/1454,874647,874648/?objectType=Villa'\n"
   ]
  },
  {
   "cell_type": "code",
   "execution_count": 3,
   "metadata": {
    "scrolled": true
   },
   "outputs": [],
   "source": [
    "no_of_pages = 63\n",
    "for i in range(1, no_of_pages + 1):\n",
    "    #opening the connection to the website, grabbing the wantad page, looping through the specified number of pages\n",
    "    uClient = uReq(my_url + '&page=' + str(i))\n",
    "    page_html = uClient.read()\n",
    "    uClient.close()\n",
    "    \n",
    "    #html parsing\n",
    "    page_soup = soup(page_html, 'html.parser')\n",
    "    \n",
    "    #grab all items of houses sold from the html\n",
    "    containers = page_soup.findAll('li', {'class': 'search-list__item search-list__item--sold'})\n",
    "    \n",
    "    filename = 'listing.csv'\n",
    "    f = open(filename, 'a')\n",
    "\n",
    "    if i == 1:\n",
    "        headers = 'price_change, adress, living_area, district, final_price, land_area, date_sold\\n'\n",
    "        f.write(headers)\n",
    "    else:\n",
    "        pass\n",
    "\n",
    "\n",
    "    for container in containers:\n",
    "        price_change = container.findAll('span', {'class': 'search-list__column search-list__column--price-change'})[0].text.strip()\n",
    "        adress = container.find('span', {'class': 'search-list__row search-list__row--address'}).text\n",
    "        living_area = container.find('span', {'class': 'search-list__row'}).find_next('span').text\n",
    "        district = container.find('span', {'class': 'search-list__row'}).find_next('span').find_next('span').text\n",
    "        final_price = container.find('span', {'class': 'search-list__row search-list__row--price'}).text\n",
    "        land_area = container.find('span', {'class': 'search-list__column search-list__column--info-2'}).find('span', {'class': 'search-list__row'}).find_next('span').text\n",
    "        date_sold = container.find('span', {'class': 'search-list__row search-list__row--sold-date'}).text\n",
    "\n",
    "        f.write(adress + '; ' + living_area + '; ' + district + '; ' + land_area + '; ' + date_sold + '; ' + price_change + '; ' + final_price + '\\n')\n",
    "\n",
    "    f.close()\n",
    "    "
   ]
  },
  {
   "cell_type": "code",
   "execution_count": null,
   "metadata": {},
   "outputs": [],
   "source": []
  }
 ],
 "metadata": {
  "kernelspec": {
   "display_name": "Python 3",
   "language": "python",
   "name": "python3"
  },
  "language_info": {
   "codemirror_mode": {
    "name": "ipython",
    "version": 3
   },
   "file_extension": ".py",
   "mimetype": "text/x-python",
   "name": "python",
   "nbconvert_exporter": "python",
   "pygments_lexer": "ipython3",
   "version": "3.7.3"
  }
 },
 "nbformat": 4,
 "nbformat_minor": 2
}
